{
  "nbformat": 4,
  "nbformat_minor": 0,
  "metadata": {
    "colab": {
      "provenance": []
    },
    "kernelspec": {
      "name": "python3",
      "display_name": "Python 3"
    },
    "language_info": {
      "name": "python"
    }
  },
  "cells": [
    {
      "cell_type": "code",
      "execution_count": null,
      "metadata": {
        "colab": {
          "base_uri": "https://localhost:8080/"
        },
        "id": "evRKZ2OIkfkP",
        "outputId": "3971c96e-5621-41c5-d005-70f8e06b2d9e"
      },
      "outputs": [
        {
          "output_type": "stream",
          "name": "stdout",
          "text": [
            "Collecting pyspark\n",
            "  Downloading pyspark-3.5.0.tar.gz (316.9 MB)\n",
            "\u001b[2K     \u001b[90m━━━━━━━━━━━━━━━━━━━━━━━━━━━━━━━━━━━━━━━━\u001b[0m \u001b[32m316.9/316.9 MB\u001b[0m \u001b[31m3.1 MB/s\u001b[0m eta \u001b[36m0:00:00\u001b[0m\n",
            "\u001b[?25h  Preparing metadata (setup.py) ... \u001b[?25l\u001b[?25hdone\n",
            "Requirement already satisfied: py4j==0.10.9.7 in /usr/local/lib/python3.10/dist-packages (from pyspark) (0.10.9.7)\n",
            "Building wheels for collected packages: pyspark\n",
            "  Building wheel for pyspark (setup.py) ... \u001b[?25l\u001b[?25hdone\n",
            "  Created wheel for pyspark: filename=pyspark-3.5.0-py2.py3-none-any.whl size=317425345 sha256=1a6ad6fa3ef67477403a24ae41ae3d78f974455ba561eb8c6262b4963e64c959\n",
            "  Stored in directory: /root/.cache/pip/wheels/41/4e/10/c2cf2467f71c678cfc8a6b9ac9241e5e44a01940da8fbb17fc\n",
            "Successfully built pyspark\n",
            "Installing collected packages: pyspark\n",
            "Successfully installed pyspark-3.5.0\n"
          ]
        }
      ],
      "source": [
        "!pip install pyspark"
      ]
    },
    {
      "cell_type": "code",
      "source": [
        "import pyspark\n"
      ],
      "metadata": {
        "id": "p6-tlkhdl2fg"
      },
      "execution_count": null,
      "outputs": []
    },
    {
      "cell_type": "code",
      "source": [
        "spark  = pyspark.sql.SparkSession.builder.appName(\"Session1\").getOrCreate()"
      ],
      "metadata": {
        "id": "X2M2-4LomhvN"
      },
      "execution_count": null,
      "outputs": []
    },
    {
      "cell_type": "code",
      "source": [
        "spark"
      ],
      "metadata": {
        "colab": {
          "base_uri": "https://localhost:8080/",
          "height": 219
        },
        "id": "RHvVav6emta0",
        "outputId": "cd525d72-6fbb-4712-b54a-ff7e0f2b1af9"
      },
      "execution_count": null,
      "outputs": [
        {
          "output_type": "execute_result",
          "data": {
            "text/plain": [
              "<pyspark.sql.session.SparkSession at 0x78c4b435d0f0>"
            ],
            "text/html": [
              "\n",
              "            <div>\n",
              "                <p><b>SparkSession - in-memory</b></p>\n",
              "                \n",
              "        <div>\n",
              "            <p><b>SparkContext</b></p>\n",
              "\n",
              "            <p><a href=\"http://094507a45f78:4040\">Spark UI</a></p>\n",
              "\n",
              "            <dl>\n",
              "              <dt>Version</dt>\n",
              "                <dd><code>v3.5.0</code></dd>\n",
              "              <dt>Master</dt>\n",
              "                <dd><code>local[*]</code></dd>\n",
              "              <dt>AppName</dt>\n",
              "                <dd><code>Session1</code></dd>\n",
              "            </dl>\n",
              "        </div>\n",
              "        \n",
              "            </div>\n",
              "        "
            ]
          },
          "metadata": {},
          "execution_count": 4
        }
      ]
    },
    {
      "cell_type": "markdown",
      "source": [
        "Download the titanic file"
      ],
      "metadata": {
        "id": "-CRzVAP4yA0f"
      }
    },
    {
      "cell_type": "code",
      "source": [
        "!curl -o titanic.csv https://raw.githubusercontent.com/jesuspemu/Titanic/master/train.csv"
      ],
      "metadata": {
        "colab": {
          "base_uri": "https://localhost:8080/"
        },
        "id": "ZT-n7pZEx_gJ",
        "outputId": "39051af9-7aaa-4972-dfc3-8dee36315492"
      },
      "execution_count": null,
      "outputs": [
        {
          "output_type": "stream",
          "name": "stdout",
          "text": [
            "  % Total    % Received % Xferd  Average Speed   Time    Time     Time  Current\n",
            "                                 Dload  Upload   Total   Spent    Left  Speed\n",
            "\r  0     0    0     0    0     0      0      0 --:--:-- --:--:-- --:--:--     0\r100 61194  100 61194    0     0   371k      0 --:--:-- --:--:-- --:--:--  373k\n"
          ]
        }
      ]
    },
    {
      "cell_type": "code",
      "source": [
        "!head titanic.csv"
      ],
      "metadata": {
        "colab": {
          "base_uri": "https://localhost:8080/"
        },
        "id": "lJaDQX7-yDRx",
        "outputId": "f501c7b2-2783-48a6-d40b-3cdd16d28b49"
      },
      "execution_count": null,
      "outputs": [
        {
          "output_type": "stream",
          "name": "stdout",
          "text": [
            "PassengerId,Survived,Pclass,Name,Sex,Age,SibSp,Parch,Ticket,Fare,Cabin,Embarked\r\n",
            "1,0,3,\"Braund, Mr. Owen Harris\",male,22,1,0,A/5 21171,7.25,,S\r\n",
            "2,1,1,\"Cumings, Mrs. John Bradley (Florence Briggs Thayer)\",female,38,1,0,PC 17599,71.2833,C85,C\r\n",
            "3,1,3,\"Heikkinen, Miss. Laina\",female,26,0,0,STON/O2. 3101282,7.925,,S\r\n",
            "4,1,1,\"Futrelle, Mrs. Jacques Heath (Lily May Peel)\",female,35,1,0,113803,53.1,C123,S\r\n",
            "5,0,3,\"Allen, Mr. William Henry\",male,35,0,0,373450,8.05,,S\r\n",
            "6,0,3,\"Moran, Mr. James\",male,,0,0,330877,8.4583,,Q\r\n",
            "7,0,1,\"McCarthy, Mr. Timothy J\",male,54,0,0,17463,51.8625,E46,S\r\n",
            "8,0,3,\"Palsson, Master. Gosta Leonard\",male,2,3,1,349909,21.075,,S\r\n",
            "9,1,3,\"Johnson, Mrs. Oscar W (Elisabeth Vilhelmina Berg)\",female,27,0,2,347742,11.1333,,S\r\n"
          ]
        }
      ]
    },
    {
      "cell_type": "code",
      "source": [
        "spark.read.csv('titanic.csv',header=True,sep=',')"
      ],
      "metadata": {
        "colab": {
          "base_uri": "https://localhost:8080/"
        },
        "id": "LjKEmohazdyh",
        "outputId": "21d7d496-4838-440d-d64e-da5933709236"
      },
      "execution_count": null,
      "outputs": [
        {
          "output_type": "execute_result",
          "data": {
            "text/plain": [
              "DataFrame[PassengerId: string, Survived: string, Pclass: string, Name: string, Sex: string, Age: string, SibSp: string, Parch: string, Ticket: string, Fare: string, Cabin: string, Embarked: string]"
            ]
          },
          "metadata": {},
          "execution_count": 7
        }
      ]
    },
    {
      "cell_type": "code",
      "source": [
        "spark.read.csv('titanic.csv',header=True,sep=',').show(5)"
      ],
      "metadata": {
        "colab": {
          "base_uri": "https://localhost:8080/"
        },
        "id": "3CkyhnCR0j8d",
        "outputId": "7c61664b-8b21-4308-f9d5-37264c183a81"
      },
      "execution_count": null,
      "outputs": [
        {
          "output_type": "stream",
          "name": "stdout",
          "text": [
            "+-----------+--------+------+--------------------+------+---+-----+-----+----------------+-------+-----+--------+\n",
            "|PassengerId|Survived|Pclass|                Name|   Sex|Age|SibSp|Parch|          Ticket|   Fare|Cabin|Embarked|\n",
            "+-----------+--------+------+--------------------+------+---+-----+-----+----------------+-------+-----+--------+\n",
            "|          1|       0|     3|Braund, Mr. Owen ...|  male| 22|    1|    0|       A/5 21171|   7.25| NULL|       S|\n",
            "|          2|       1|     1|Cumings, Mrs. Joh...|female| 38|    1|    0|        PC 17599|71.2833|  C85|       C|\n",
            "|          3|       1|     3|Heikkinen, Miss. ...|female| 26|    0|    0|STON/O2. 3101282|  7.925| NULL|       S|\n",
            "|          4|       1|     1|Futrelle, Mrs. Ja...|female| 35|    1|    0|          113803|   53.1| C123|       S|\n",
            "|          5|       0|     3|Allen, Mr. Willia...|  male| 35|    0|    0|          373450|   8.05| NULL|       S|\n",
            "+-----------+--------+------+--------------------+------+---+-----+-----+----------------+-------+-----+--------+\n",
            "only showing top 5 rows\n",
            "\n"
          ]
        }
      ]
    },
    {
      "cell_type": "code",
      "source": [
        "spark.read.csv('titanic.csv',header=True,sep=',',inferSchema=True).printSchema()"
      ],
      "metadata": {
        "colab": {
          "base_uri": "https://localhost:8080/"
        },
        "id": "etx9s82P1yBF",
        "outputId": "1c26a9f2-20da-4bca-f667-ac7147e843be"
      },
      "execution_count": null,
      "outputs": [
        {
          "output_type": "stream",
          "name": "stdout",
          "text": [
            "root\n",
            " |-- PassengerId: integer (nullable = true)\n",
            " |-- Survived: integer (nullable = true)\n",
            " |-- Pclass: integer (nullable = true)\n",
            " |-- Name: string (nullable = true)\n",
            " |-- Sex: string (nullable = true)\n",
            " |-- Age: double (nullable = true)\n",
            " |-- SibSp: integer (nullable = true)\n",
            " |-- Parch: integer (nullable = true)\n",
            " |-- Ticket: string (nullable = true)\n",
            " |-- Fare: double (nullable = true)\n",
            " |-- Cabin: string (nullable = true)\n",
            " |-- Embarked: string (nullable = true)\n",
            "\n"
          ]
        }
      ]
    },
    {
      "cell_type": "code",
      "source": [
        "titanic_ddf = spark.read.csv('titanic.csv',header=True,sep=',',inferSchema=True)"
      ],
      "metadata": {
        "id": "-czo0n_k3YAJ"
      },
      "execution_count": null,
      "outputs": []
    },
    {
      "cell_type": "code",
      "source": [
        "titanic_ddf.describe().show()"
      ],
      "metadata": {
        "colab": {
          "base_uri": "https://localhost:8080/"
        },
        "id": "4V0fOBA88p40",
        "outputId": "a133da77-e27a-4329-ef3b-9552f1f0830e"
      },
      "execution_count": null,
      "outputs": [
        {
          "output_type": "stream",
          "name": "stdout",
          "text": [
            "+-------+-----------------+-------------------+------------------+--------------------+------+------------------+------------------+-------------------+------------------+-----------------+-----+--------+\n",
            "|summary|      PassengerId|           Survived|            Pclass|                Name|   Sex|               Age|             SibSp|              Parch|            Ticket|             Fare|Cabin|Embarked|\n",
            "+-------+-----------------+-------------------+------------------+--------------------+------+------------------+------------------+-------------------+------------------+-----------------+-----+--------+\n",
            "|  count|              891|                891|               891|                 891|   891|               714|               891|                891|               891|              891|  204|     889|\n",
            "|   mean|            446.0| 0.3838383838383838| 2.308641975308642|                NULL|  NULL| 29.69911764705882|0.5230078563411896|0.38159371492704824|260318.54916792738| 32.2042079685746| NULL|    NULL|\n",
            "| stddev|257.3538420152301|0.48659245426485753|0.8360712409770491|                NULL|  NULL|14.526497332334035|1.1027434322934315| 0.8060572211299488|471609.26868834975|49.69342859718089| NULL|    NULL|\n",
            "|    min|                1|                  0|                 1|\"Andersson, Mr. A...|female|              0.42|                 0|                  0|            110152|              0.0|  A10|       C|\n",
            "|    max|              891|                  1|                 3|van Melkebeke, Mr...|  male|              80.0|                 8|                  6|         WE/P 5735|         512.3292|    T|       S|\n",
            "+-------+-----------------+-------------------+------------------+--------------------+------+------------------+------------------+-------------------+------------------+-----------------+-----+--------+\n",
            "\n"
          ]
        }
      ]
    },
    {
      "cell_type": "code",
      "source": [
        "titanic_ddf.where(\"sex='male'\").show()"
      ],
      "metadata": {
        "colab": {
          "base_uri": "https://localhost:8080/"
        },
        "id": "gnN6lr88S75A",
        "outputId": "7759f694-56d1-4869-b817-960de91d5125"
      },
      "execution_count": null,
      "outputs": [
        {
          "output_type": "stream",
          "name": "stdout",
          "text": [
            "+-----------+--------+------+--------------------+----+----+-----+-----+----------+-------+-----------+--------+\n",
            "|PassengerId|Survived|Pclass|                Name| Sex| Age|SibSp|Parch|    Ticket|   Fare|      Cabin|Embarked|\n",
            "+-----------+--------+------+--------------------+----+----+-----+-----+----------+-------+-----------+--------+\n",
            "|          1|       0|     3|Braund, Mr. Owen ...|male|22.0|    1|    0| A/5 21171|   7.25|       NULL|       S|\n",
            "|          5|       0|     3|Allen, Mr. Willia...|male|35.0|    0|    0|    373450|   8.05|       NULL|       S|\n",
            "|          6|       0|     3|    Moran, Mr. James|male|NULL|    0|    0|    330877| 8.4583|       NULL|       Q|\n",
            "|          7|       0|     1|McCarthy, Mr. Tim...|male|54.0|    0|    0|     17463|51.8625|        E46|       S|\n",
            "|          8|       0|     3|Palsson, Master. ...|male| 2.0|    3|    1|    349909| 21.075|       NULL|       S|\n",
            "|         13|       0|     3|Saundercock, Mr. ...|male|20.0|    0|    0| A/5. 2151|   8.05|       NULL|       S|\n",
            "|         14|       0|     3|Andersson, Mr. An...|male|39.0|    1|    5|    347082| 31.275|       NULL|       S|\n",
            "|         17|       0|     3|Rice, Master. Eugene|male| 2.0|    4|    1|    382652| 29.125|       NULL|       Q|\n",
            "|         18|       1|     2|Williams, Mr. Cha...|male|NULL|    0|    0|    244373|   13.0|       NULL|       S|\n",
            "|         21|       0|     2|Fynney, Mr. Joseph J|male|35.0|    0|    0|    239865|   26.0|       NULL|       S|\n",
            "|         22|       1|     2|Beesley, Mr. Lawr...|male|34.0|    0|    0|    248698|   13.0|        D56|       S|\n",
            "|         24|       1|     1|Sloper, Mr. Willi...|male|28.0|    0|    0|    113788|   35.5|         A6|       S|\n",
            "|         27|       0|     3|Emir, Mr. Farred ...|male|NULL|    0|    0|      2631|  7.225|       NULL|       C|\n",
            "|         28|       0|     1|Fortune, Mr. Char...|male|19.0|    3|    2|     19950|  263.0|C23 C25 C27|       S|\n",
            "|         30|       0|     3| Todoroff, Mr. Lalio|male|NULL|    0|    0|    349216| 7.8958|       NULL|       S|\n",
            "|         31|       0|     1|Uruchurtu, Don. M...|male|40.0|    0|    0|  PC 17601|27.7208|       NULL|       C|\n",
            "|         34|       0|     2|Wheadon, Mr. Edwa...|male|66.0|    0|    0|C.A. 24579|   10.5|       NULL|       S|\n",
            "|         35|       0|     1|Meyer, Mr. Edgar ...|male|28.0|    1|    0|  PC 17604|82.1708|       NULL|       C|\n",
            "|         36|       0|     1|Holverson, Mr. Al...|male|42.0|    1|    0|    113789|   52.0|       NULL|       S|\n",
            "|         37|       1|     3|    Mamee, Mr. Hanna|male|NULL|    0|    0|      2677| 7.2292|       NULL|       C|\n",
            "+-----------+--------+------+--------------------+----+----+-----+-----+----------+-------+-----------+--------+\n",
            "only showing top 20 rows\n",
            "\n"
          ]
        }
      ]
    },
    {
      "cell_type": "code",
      "source": [
        "import pyspark.sql.functions as F"
      ],
      "metadata": {
        "id": "AewvI_p9TZTF"
      },
      "execution_count": null,
      "outputs": []
    },
    {
      "cell_type": "code",
      "source": [
        "titanic_ddf.where((F.col(\"Sex\")==\"male\") & (F.col('Age') < 18)).count() #F.col () free us from using the df variable name all the name, s that our code ismore generc"
      ],
      "metadata": {
        "colab": {
          "base_uri": "https://localhost:8080/"
        },
        "id": "GkoPNlGBTi7Z",
        "outputId": "438d807e-6603-47c0-ccba-895225ec558f"
      },
      "execution_count": null,
      "outputs": [
        {
          "output_type": "execute_result",
          "data": {
            "text/plain": [
              "58"
            ]
          },
          "metadata": {},
          "execution_count": 14
        }
      ]
    },
    {
      "cell_type": "code",
      "source": [
        "#computing a new column\n",
        "titanic_ddf.withColumn('FareEUR',F.col('Fare') * 1.1 ).show()"
      ],
      "metadata": {
        "colab": {
          "base_uri": "https://localhost:8080/"
        },
        "id": "d7K3NxFkTWOR",
        "outputId": "05168e9b-ceab-4124-a1c5-669400df8d0a"
      },
      "execution_count": null,
      "outputs": [
        {
          "output_type": "stream",
          "name": "stdout",
          "text": [
            "+-----------+--------+------+--------------------+------+----+-----+-----+----------------+-------+-----+--------+------------------+\n",
            "|PassengerId|Survived|Pclass|                Name|   Sex| Age|SibSp|Parch|          Ticket|   Fare|Cabin|Embarked|           FareEUR|\n",
            "+-----------+--------+------+--------------------+------+----+-----+-----+----------------+-------+-----+--------+------------------+\n",
            "|          1|       0|     3|Braund, Mr. Owen ...|  male|22.0|    1|    0|       A/5 21171|   7.25| NULL|       S|7.9750000000000005|\n",
            "|          2|       1|     1|Cumings, Mrs. Joh...|female|38.0|    1|    0|        PC 17599|71.2833|  C85|       C|          78.41163|\n",
            "|          3|       1|     3|Heikkinen, Miss. ...|female|26.0|    0|    0|STON/O2. 3101282|  7.925| NULL|       S| 8.717500000000001|\n",
            "|          4|       1|     1|Futrelle, Mrs. Ja...|female|35.0|    1|    0|          113803|   53.1| C123|       S|58.410000000000004|\n",
            "|          5|       0|     3|Allen, Mr. Willia...|  male|35.0|    0|    0|          373450|   8.05| NULL|       S| 8.855000000000002|\n",
            "|          6|       0|     3|    Moran, Mr. James|  male|NULL|    0|    0|          330877| 8.4583| NULL|       Q|           9.30413|\n",
            "|          7|       0|     1|McCarthy, Mr. Tim...|  male|54.0|    0|    0|           17463|51.8625|  E46|       S|          57.04875|\n",
            "|          8|       0|     3|Palsson, Master. ...|  male| 2.0|    3|    1|          349909| 21.075| NULL|       S|           23.1825|\n",
            "|          9|       1|     3|Johnson, Mrs. Osc...|female|27.0|    0|    2|          347742|11.1333| NULL|       S|12.246630000000001|\n",
            "|         10|       1|     2|Nasser, Mrs. Nich...|female|14.0|    1|    0|          237736|30.0708| NULL|       C|          33.07788|\n",
            "|         11|       1|     3|Sandstrom, Miss. ...|female| 4.0|    1|    1|         PP 9549|   16.7|   G6|       S|             18.37|\n",
            "|         12|       1|     1|Bonnell, Miss. El...|female|58.0|    0|    0|          113783|  26.55| C103|       S|29.205000000000002|\n",
            "|         13|       0|     3|Saundercock, Mr. ...|  male|20.0|    0|    0|       A/5. 2151|   8.05| NULL|       S| 8.855000000000002|\n",
            "|         14|       0|     3|Andersson, Mr. An...|  male|39.0|    1|    5|          347082| 31.275| NULL|       S|           34.4025|\n",
            "|         15|       0|     3|Vestrom, Miss. Hu...|female|14.0|    0|    0|          350406| 7.8542| NULL|       S|           8.63962|\n",
            "|         16|       1|     2|Hewlett, Mrs. (Ma...|female|55.0|    0|    0|          248706|   16.0| NULL|       S|              17.6|\n",
            "|         17|       0|     3|Rice, Master. Eugene|  male| 2.0|    4|    1|          382652| 29.125| NULL|       Q|           32.0375|\n",
            "|         18|       1|     2|Williams, Mr. Cha...|  male|NULL|    0|    0|          244373|   13.0| NULL|       S|              14.3|\n",
            "|         19|       0|     3|Vander Planke, Mr...|female|31.0|    1|    0|          345763|   18.0| NULL|       S|              19.8|\n",
            "|         20|       1|     3|Masselmani, Mrs. ...|female|NULL|    0|    0|            2649|  7.225| NULL|       C| 7.947500000000001|\n",
            "+-----------+--------+------+--------------------+------+----+-----+-----+----------------+-------+-----+--------+------------------+\n",
            "only showing top 20 rows\n",
            "\n"
          ]
        }
      ]
    },
    {
      "cell_type": "code",
      "source": [
        "titanic_ddf.withColumn(\"Gender\",F.when(F.col('sex')=='female',1).otherwise(0)).show(3)"
      ],
      "metadata": {
        "colab": {
          "base_uri": "https://localhost:8080/"
        },
        "id": "0vWHNNFeVg2s",
        "outputId": "ae3034a3-f661-41cd-cf3e-47d0cab3b5ba"
      },
      "execution_count": null,
      "outputs": [
        {
          "output_type": "stream",
          "name": "stdout",
          "text": [
            "+-----------+--------+------+--------------------+------+----+-----+-----+----------------+-------+-----+--------+------+\n",
            "|PassengerId|Survived|Pclass|                Name|   Sex| Age|SibSp|Parch|          Ticket|   Fare|Cabin|Embarked|Gender|\n",
            "+-----------+--------+------+--------------------+------+----+-----+-----+----------------+-------+-----+--------+------+\n",
            "|          1|       0|     3|Braund, Mr. Owen ...|  male|22.0|    1|    0|       A/5 21171|   7.25| NULL|       S|     0|\n",
            "|          2|       1|     1|Cumings, Mrs. Joh...|female|38.0|    1|    0|        PC 17599|71.2833|  C85|       C|     1|\n",
            "|          3|       1|     3|Heikkinen, Miss. ...|female|26.0|    0|    0|STON/O2. 3101282|  7.925| NULL|       S|     1|\n",
            "+-----------+--------+------+--------------------+------+----+-----+-----+----------------+-------+-----+--------+------+\n",
            "only showing top 3 rows\n",
            "\n"
          ]
        }
      ]
    },
    {
      "cell_type": "code",
      "source": [
        "titanic_ddf.selectExpr(\"*\",\"CASE WHEN Sex = 'male' THEN 0 ELSE 1 END AS gender\").show()"
      ],
      "metadata": {
        "colab": {
          "base_uri": "https://localhost:8080/"
        },
        "id": "JwuMvKeAWO3E",
        "outputId": "33c628e9-699c-4634-b17a-21225976110a"
      },
      "execution_count": null,
      "outputs": [
        {
          "output_type": "stream",
          "name": "stdout",
          "text": [
            "+-----------+--------+------+--------------------+------+----+-----+-----+----------------+-------+-----+--------+------+\n",
            "|PassengerId|Survived|Pclass|                Name|   Sex| Age|SibSp|Parch|          Ticket|   Fare|Cabin|Embarked|gender|\n",
            "+-----------+--------+------+--------------------+------+----+-----+-----+----------------+-------+-----+--------+------+\n",
            "|          1|       0|     3|Braund, Mr. Owen ...|  male|22.0|    1|    0|       A/5 21171|   7.25| NULL|       S|     0|\n",
            "|          2|       1|     1|Cumings, Mrs. Joh...|female|38.0|    1|    0|        PC 17599|71.2833|  C85|       C|     1|\n",
            "|          3|       1|     3|Heikkinen, Miss. ...|female|26.0|    0|    0|STON/O2. 3101282|  7.925| NULL|       S|     1|\n",
            "|          4|       1|     1|Futrelle, Mrs. Ja...|female|35.0|    1|    0|          113803|   53.1| C123|       S|     1|\n",
            "|          5|       0|     3|Allen, Mr. Willia...|  male|35.0|    0|    0|          373450|   8.05| NULL|       S|     0|\n",
            "|          6|       0|     3|    Moran, Mr. James|  male|NULL|    0|    0|          330877| 8.4583| NULL|       Q|     0|\n",
            "|          7|       0|     1|McCarthy, Mr. Tim...|  male|54.0|    0|    0|           17463|51.8625|  E46|       S|     0|\n",
            "|          8|       0|     3|Palsson, Master. ...|  male| 2.0|    3|    1|          349909| 21.075| NULL|       S|     0|\n",
            "|          9|       1|     3|Johnson, Mrs. Osc...|female|27.0|    0|    2|          347742|11.1333| NULL|       S|     1|\n",
            "|         10|       1|     2|Nasser, Mrs. Nich...|female|14.0|    1|    0|          237736|30.0708| NULL|       C|     1|\n",
            "|         11|       1|     3|Sandstrom, Miss. ...|female| 4.0|    1|    1|         PP 9549|   16.7|   G6|       S|     1|\n",
            "|         12|       1|     1|Bonnell, Miss. El...|female|58.0|    0|    0|          113783|  26.55| C103|       S|     1|\n",
            "|         13|       0|     3|Saundercock, Mr. ...|  male|20.0|    0|    0|       A/5. 2151|   8.05| NULL|       S|     0|\n",
            "|         14|       0|     3|Andersson, Mr. An...|  male|39.0|    1|    5|          347082| 31.275| NULL|       S|     0|\n",
            "|         15|       0|     3|Vestrom, Miss. Hu...|female|14.0|    0|    0|          350406| 7.8542| NULL|       S|     1|\n",
            "|         16|       1|     2|Hewlett, Mrs. (Ma...|female|55.0|    0|    0|          248706|   16.0| NULL|       S|     1|\n",
            "|         17|       0|     3|Rice, Master. Eugene|  male| 2.0|    4|    1|          382652| 29.125| NULL|       Q|     0|\n",
            "|         18|       1|     2|Williams, Mr. Cha...|  male|NULL|    0|    0|          244373|   13.0| NULL|       S|     0|\n",
            "|         19|       0|     3|Vander Planke, Mr...|female|31.0|    1|    0|          345763|   18.0| NULL|       S|     1|\n",
            "|         20|       1|     3|Masselmani, Mrs. ...|female|NULL|    0|    0|            2649|  7.225| NULL|       C|     1|\n",
            "+-----------+--------+------+--------------------+------+----+-----+-----+----------------+-------+-----+--------+------+\n",
            "only showing top 20 rows\n",
            "\n"
          ]
        }
      ]
    },
    {
      "cell_type": "code",
      "source": [
        "titanic_ddf.sort(\"Fare\",ascending=False).show()"
      ],
      "metadata": {
        "colab": {
          "base_uri": "https://localhost:8080/"
        },
        "id": "Gk5s6gJPXBiB",
        "outputId": "43d043e0-ec15-4874-d12f-8d31f6e32aa5"
      },
      "execution_count": null,
      "outputs": [
        {
          "output_type": "stream",
          "name": "stdout",
          "text": [
            "+-----------+--------+------+--------------------+------+----+-----+-----+--------+--------+---------------+--------+\n",
            "|PassengerId|Survived|Pclass|                Name|   Sex| Age|SibSp|Parch|  Ticket|    Fare|          Cabin|Embarked|\n",
            "+-----------+--------+------+--------------------+------+----+-----+-----+--------+--------+---------------+--------+\n",
            "|        259|       1|     1|    Ward, Miss. Anna|female|35.0|    0|    0|PC 17755|512.3292|           NULL|       C|\n",
            "|        680|       1|     1|Cardeza, Mr. Thom...|  male|36.0|    0|    1|PC 17755|512.3292|    B51 B53 B55|       C|\n",
            "|        738|       1|     1|Lesurer, Mr. Gust...|  male|35.0|    0|    0|PC 17755|512.3292|           B101|       C|\n",
            "|         28|       0|     1|Fortune, Mr. Char...|  male|19.0|    3|    2|   19950|   263.0|    C23 C25 C27|       S|\n",
            "|         89|       1|     1|Fortune, Miss. Ma...|female|23.0|    3|    2|   19950|   263.0|    C23 C25 C27|       S|\n",
            "|        342|       1|     1|Fortune, Miss. Al...|female|24.0|    3|    2|   19950|   263.0|    C23 C25 C27|       S|\n",
            "|        439|       0|     1|   Fortune, Mr. Mark|  male|64.0|    1|    4|   19950|   263.0|    C23 C25 C27|       S|\n",
            "|        312|       1|     1|Ryerson, Miss. Em...|female|18.0|    2|    2|PC 17608| 262.375|B57 B59 B63 B66|       C|\n",
            "|        743|       1|     1|\"Ryerson, Miss. S...|female|21.0|    2|    2|PC 17608| 262.375|B57 B59 B63 B66|       C|\n",
            "|        119|       0|     1|Baxter, Mr. Quigg...|  male|24.0|    0|    1|PC 17558|247.5208|        B58 B60|       C|\n",
            "|        300|       1|     1|Baxter, Mrs. Jame...|female|50.0|    0|    1|PC 17558|247.5208|        B58 B60|       C|\n",
            "|        381|       1|     1|Bidois, Miss. Ros...|female|42.0|    0|    0|PC 17757| 227.525|           NULL|       C|\n",
            "|        558|       0|     1| Robbins, Mr. Victor|  male|NULL|    0|    0|PC 17757| 227.525|           NULL|       C|\n",
            "|        701|       1|     1|Astor, Mrs. John ...|female|18.0|    1|    0|PC 17757| 227.525|        C62 C64|       C|\n",
            "|        717|       1|     1|Endres, Miss. Car...|female|38.0|    0|    0|PC 17757| 227.525|            C45|       C|\n",
            "|        528|       0|     1|  Farthing, Mr. John|  male|NULL|    0|    0|PC 17483|221.7792|            C95|       S|\n",
            "|        378|       0|     1|Widener, Mr. Harr...|  male|27.0|    0|    2|  113503|   211.5|            C82|       C|\n",
            "|        690|       1|     1|Madill, Miss. Geo...|female|15.0|    0|    1|   24160|211.3375|             B5|       S|\n",
            "|        731|       1|     1|Allen, Miss. Elis...|female|29.0|    0|    0|   24160|211.3375|             B5|       S|\n",
            "|        780|       1|     1|Robert, Mrs. Edwa...|female|43.0|    0|    1|   24160|211.3375|             B3|       S|\n",
            "+-----------+--------+------+--------------------+------+----+-----+-----+--------+--------+---------------+--------+\n",
            "only showing top 20 rows\n",
            "\n"
          ]
        }
      ]
    },
    {
      "cell_type": "code",
      "source": [
        "titanic_ddf.agg({'age':'mean',\"Fare\":\"max\"}).show()"
      ],
      "metadata": {
        "colab": {
          "base_uri": "https://localhost:8080/"
        },
        "id": "DS4bVNqxXzQ2",
        "outputId": "956aead7-a9be-43a5-b0a9-ccc0648a338c"
      },
      "execution_count": null,
      "outputs": [
        {
          "output_type": "stream",
          "name": "stdout",
          "text": [
            "+-----------------+---------+\n",
            "|         avg(age)|max(Fare)|\n",
            "+-----------------+---------+\n",
            "|29.69911764705882| 512.3292|\n",
            "+-----------------+---------+\n",
            "\n"
          ]
        }
      ]
    },
    {
      "cell_type": "code",
      "source": [
        "titanic_ddf.groupBy('Pclass').agg({\"Survived\":\"mean\"}).show()"
      ],
      "metadata": {
        "colab": {
          "base_uri": "https://localhost:8080/"
        },
        "id": "GJdI2DTqYQBB",
        "outputId": "58239542-a3eb-42ae-ed66-87ba585fde05"
      },
      "execution_count": null,
      "outputs": [
        {
          "output_type": "stream",
          "name": "stdout",
          "text": [
            "+------+-------------------+\n",
            "|Pclass|      avg(Survived)|\n",
            "+------+-------------------+\n",
            "|     1| 0.6296296296296297|\n",
            "|     3|0.24236252545824846|\n",
            "|     2|0.47282608695652173|\n",
            "+------+-------------------+\n",
            "\n"
          ]
        }
      ]
    },
    {
      "cell_type": "markdown",
      "source": [
        "working with sparkSQL\n",
        "\n"
      ],
      "metadata": {
        "id": "x6DH9umM8Q_i"
      }
    },
    {
      "cell_type": "code",
      "source": [
        "#create a link btw the ddf AND a table in sparkSQL\n",
        "titanic_ddf.createOrReplaceTempView('passengers')"
      ],
      "metadata": {
        "id": "A9N2e5PBa1hW"
      },
      "execution_count": null,
      "outputs": []
    },
    {
      "cell_type": "code",
      "source": [
        "#then query the data\n",
        "spark.sql('SELECT * FROM passengers WHERE age <18').show()"
      ],
      "metadata": {
        "colab": {
          "base_uri": "https://localhost:8080/"
        },
        "id": "SaX70T5EbA9_",
        "outputId": "1c0cbf3f-d398-469f-f04b-bc53b0e1042e"
      },
      "execution_count": null,
      "outputs": [
        {
          "output_type": "stream",
          "name": "stdout",
          "text": [
            "+-----------+--------+------+--------------------+------+----+-----+-----+-------------+-------+-----+--------+\n",
            "|PassengerId|Survived|Pclass|                Name|   Sex| Age|SibSp|Parch|       Ticket|   Fare|Cabin|Embarked|\n",
            "+-----------+--------+------+--------------------+------+----+-----+-----+-------------+-------+-----+--------+\n",
            "|          8|       0|     3|Palsson, Master. ...|  male| 2.0|    3|    1|       349909| 21.075| NULL|       S|\n",
            "|         10|       1|     2|Nasser, Mrs. Nich...|female|14.0|    1|    0|       237736|30.0708| NULL|       C|\n",
            "|         11|       1|     3|Sandstrom, Miss. ...|female| 4.0|    1|    1|      PP 9549|   16.7|   G6|       S|\n",
            "|         15|       0|     3|Vestrom, Miss. Hu...|female|14.0|    0|    0|       350406| 7.8542| NULL|       S|\n",
            "|         17|       0|     3|Rice, Master. Eugene|  male| 2.0|    4|    1|       382652| 29.125| NULL|       Q|\n",
            "|         23|       1|     3|\"McGowan, Miss. A...|female|15.0|    0|    0|       330923| 8.0292| NULL|       Q|\n",
            "|         25|       0|     3|Palsson, Miss. To...|female| 8.0|    3|    1|       349909| 21.075| NULL|       S|\n",
            "|         40|       1|     3|Nicola-Yarred, Mi...|female|14.0|    1|    0|         2651|11.2417| NULL|       C|\n",
            "|         44|       1|     2|Laroche, Miss. Si...|female| 3.0|    1|    2|SC/Paris 2123|41.5792| NULL|       C|\n",
            "|         51|       0|     3|Panula, Master. J...|  male| 7.0|    4|    1|      3101295|39.6875| NULL|       S|\n",
            "|         59|       1|     2|West, Miss. Const...|female| 5.0|    1|    2|   C.A. 34651|  27.75| NULL|       S|\n",
            "|         60|       0|     3|Goodwin, Master. ...|  male|11.0|    5|    2|      CA 2144|   46.9| NULL|       S|\n",
            "|         64|       0|     3|Skoog, Master. Ha...|  male| 4.0|    3|    2|       347088|   27.9| NULL|       S|\n",
            "|         69|       1|     3|Andersson, Miss. ...|female|17.0|    4|    2|      3101281|  7.925| NULL|       S|\n",
            "|         72|       0|     3|Goodwin, Miss. Li...|female|16.0|    5|    2|      CA 2144|   46.9| NULL|       S|\n",
            "|         79|       1|     2|Caldwell, Master....|  male|0.83|    0|    2|       248738|   29.0| NULL|       S|\n",
            "|         85|       1|     2| Ilett, Miss. Bertha|female|17.0|    0|    0|   SO/C 14885|   10.5| NULL|       S|\n",
            "|         87|       0|     3|Ford, Mr. William...|  male|16.0|    1|    3|   W./C. 6608| 34.375| NULL|       S|\n",
            "|        112|       0|     3|Zabour, Miss. Hileni|female|14.5|    1|    0|         2665|14.4542| NULL|       C|\n",
            "|        115|       0|     3|Attalah, Miss. Ma...|female|17.0|    0|    0|         2627|14.4583| NULL|       C|\n",
            "+-----------+--------+------+--------------------+------+----+-----+-----+-------------+-------+-----+--------+\n",
            "only showing top 20 rows\n",
            "\n"
          ]
        }
      ]
    },
    {
      "cell_type": "code",
      "source": [
        "#equivalent of the following in sparksql\n",
        "#titanic_ddf.groupBy('Pclass').agg({\"survived\":'mean'}).orderBy('Pclass').show()\n",
        "spark.sql(\"\"\"\n",
        "SELECT Pclass, avg(survived) as survival_rate\n",
        "FROM passengers\n",
        "GROUP BY Pclass\n",
        "ORDER BY Pclass\n",
        "\"\"\").show()"
      ],
      "metadata": {
        "colab": {
          "base_uri": "https://localhost:8080/"
        },
        "id": "id8KPHYmbb3s",
        "outputId": "17b8dce5-c0c4-44c7-8358-6b2edeac9a58"
      },
      "execution_count": null,
      "outputs": [
        {
          "output_type": "stream",
          "name": "stdout",
          "text": [
            "+------+-------------------+\n",
            "|Pclass|      survival_rate|\n",
            "+------+-------------------+\n",
            "|     1| 0.6296296296296297|\n",
            "|     2|0.47282608695652173|\n",
            "|     3|0.24236252545824846|\n",
            "+------+-------------------+\n",
            "\n"
          ]
        }
      ]
    },
    {
      "cell_type": "code",
      "source": [
        "spark.sql(\"\"\"\n",
        "SELECT PassengerId,pclass,fare,sum (fare) OVER(PARTITION BY pclass) as total_fare_class,\n",
        " round(100*fare / sum (fare) OVER(PARTITION BY pclass),2) ||'%' as ratio\n",
        "FROM passengers\n",
        "ORDER BY pclass\"\"\").show()"
      ],
      "metadata": {
        "colab": {
          "base_uri": "https://localhost:8080/"
        },
        "id": "RLc82ktUcpYV",
        "outputId": "344bc532-86ff-43c8-e767-09289bb5b853"
      },
      "execution_count": null,
      "outputs": [
        {
          "output_type": "stream",
          "name": "stdout",
          "text": [
            "+-----------+------+--------+------------------+-----+\n",
            "|PassengerId|pclass|    fare|  total_fare_class|ratio|\n",
            "+-----------+------+--------+------------------+-----+\n",
            "|          2|     1| 71.2833|18177.412499999984|0.39%|\n",
            "|          4|     1|    53.1|18177.412499999984|0.29%|\n",
            "|          7|     1| 51.8625|18177.412499999984|0.29%|\n",
            "|         12|     1|   26.55|18177.412499999984|0.15%|\n",
            "|         24|     1|    35.5|18177.412499999984| 0.2%|\n",
            "|         28|     1|   263.0|18177.412499999984|1.45%|\n",
            "|         31|     1| 27.7208|18177.412499999984|0.15%|\n",
            "|         32|     1|146.5208|18177.412499999984|0.81%|\n",
            "|         35|     1| 82.1708|18177.412499999984|0.45%|\n",
            "|         36|     1|    52.0|18177.412499999984|0.29%|\n",
            "|         53|     1| 76.7292|18177.412499999984|0.42%|\n",
            "|         55|     1| 61.9792|18177.412499999984|0.34%|\n",
            "|         56|     1|    35.5|18177.412499999984| 0.2%|\n",
            "|         62|     1|    80.0|18177.412499999984|0.44%|\n",
            "|         63|     1|  83.475|18177.412499999984|0.46%|\n",
            "|         65|     1| 27.7208|18177.412499999984|0.15%|\n",
            "|         84|     1|    47.1|18177.412499999984|0.26%|\n",
            "|         89|     1|   263.0|18177.412499999984|1.45%|\n",
            "|         93|     1|  61.175|18177.412499999984|0.34%|\n",
            "|         97|     1| 34.6542|18177.412499999984|0.19%|\n",
            "+-----------+------+--------+------------------+-----+\n",
            "only showing top 20 rows\n",
            "\n"
          ]
        }
      ]
    },
    {
      "cell_type": "code",
      "source": [
        "spark.sql(\"\"\"\n",
        "SELECT PassengerId,pclass,fare,sum (fare) OVER(PARTITION BY pclass) as total_fare_class,\n",
        " round(100*fare / sum (fare) OVER(PARTITION BY pclass),2) ||'%' as ratio\n",
        "FROM passengers\n",
        "ORDER BY pclass\"\"\").explain()"
      ],
      "metadata": {
        "colab": {
          "base_uri": "https://localhost:8080/"
        },
        "id": "JQv04b6-Vmdv",
        "outputId": "ecef05a6-e1e9-4bbd-b832-965df06ae324"
      },
      "execution_count": null,
      "outputs": [
        {
          "output_type": "stream",
          "name": "stdout",
          "text": [
            "== Physical Plan ==\n",
            "AdaptiveSparkPlan isFinalPlan=false\n",
            "+- Sort [pclass#204 ASC NULLS FIRST], true, 0\n",
            "   +- Exchange rangepartitioning(pclass#204 ASC NULLS FIRST, 200), ENSURE_REQUIREMENTS, [plan_id=467]\n",
            "      +- Project [PassengerId#202, pclass#204, fare#211, total_fare_class#1686, concat(cast(round(((100.0 * fare#211) / _we1#1690), 2) as string), %) AS ratio#1687]\n",
            "         +- Window [sum(fare#211) windowspecdefinition(pclass#204, specifiedwindowframe(RowFrame, unboundedpreceding$(), unboundedfollowing$())) AS total_fare_class#1686, sum(fare#211) windowspecdefinition(pclass#204, specifiedwindowframe(RowFrame, unboundedpreceding$(), unboundedfollowing$())) AS _we1#1690], [pclass#204]\n",
            "            +- Sort [pclass#204 ASC NULLS FIRST], false, 0\n",
            "               +- Exchange hashpartitioning(pclass#204, 200), ENSURE_REQUIREMENTS, [plan_id=462]\n",
            "                  +- FileScan csv [PassengerId#202,Pclass#204,Fare#211] Batched: false, DataFilters: [], Format: CSV, Location: InMemoryFileIndex(1 paths)[file:/content/titanic.csv], PartitionFilters: [], PushedFilters: [], ReadSchema: struct<PassengerId:int,Pclass:int,Fare:double>\n",
            "\n",
            "\n"
          ]
        }
      ]
    },
    {
      "cell_type": "markdown",
      "source": [
        "# Data visualization"
      ],
      "metadata": {
        "id": "fO8eopVRwCV7"
      }
    },
    {
      "cell_type": "code",
      "source": [
        "type(titanic_ddf)"
      ],
      "metadata": {
        "colab": {
          "base_uri": "https://localhost:8080/"
        },
        "id": "Ab7fKoVrwnFx",
        "outputId": "6dfa0ca8-ab2a-429f-b03b-efb85e79ef5f"
      },
      "execution_count": null,
      "outputs": [
        {
          "output_type": "execute_result",
          "data": {
            "text/plain": [
              "pyspark.sql.dataframe.DataFrame"
            ]
          },
          "metadata": {},
          "execution_count": 26
        }
      ]
    },
    {
      "cell_type": "code",
      "source": [
        "(titanic_ddf\n",
        " .groupBy(\"Pclass\")\n",
        " .agg({\"Survived\":\"mean\"})\n",
        " .withColumnRenamed('avg(survived)',\"survival_rate\")\n",
        ").toPandas().sort_values(by='survival_rate').set_index('Pclass').plot.barh()"
      ],
      "metadata": {
        "colab": {
          "base_uri": "https://localhost:8080/",
          "height": 447
        },
        "id": "9ivXJeGwwAlP",
        "outputId": "3c14f092-5d31-44c8-b6a9-8104c3ecbaf5"
      },
      "execution_count": null,
      "outputs": [
        {
          "output_type": "execute_result",
          "data": {
            "text/plain": [
              "<Axes: ylabel='Pclass'>"
            ]
          },
          "metadata": {},
          "execution_count": 27
        },
        {
          "output_type": "display_data",
          "data": {
            "text/plain": [
              "<Figure size 640x480 with 1 Axes>"
            ],
            "image/png": "[encoded data removed]"
          },
          "metadata": {}
        }
      ]
    },
    {
      "cell_type": "code",
      "source": [
        "type((titanic_ddf\n",
        " .groupBy(\"Pclass\")\n",
        " .agg({\"Survived\":\"mean\"})\n",
        " .withColumnRenamed('avg(survived)',\"survival_rate\")\n",
        ").toPandas())"
      ],
      "metadata": {
        "colab": {
          "base_uri": "https://localhost:8080/"
        },
        "id": "TUAdUqT6wqeZ",
        "outputId": "436bbe73-0f7d-4800-ebd3-f118a2e9991d"
      },
      "execution_count": null,
      "outputs": [
        {
          "output_type": "execute_result",
          "data": {
            "text/plain": [
              "pandas.core.frame.DataFrame"
            ]
          },
          "metadata": {},
          "execution_count": 28
        }
      ]
    },
    {
      "cell_type": "markdown",
      "source": [
        "**Machine Learning with Spark**"
      ],
      "metadata": {
        "id": "la4blpkPanoN"
      }
    },
    {
      "cell_type": "markdown",
      "source": [
        "Variable to be predicted ($y$): `Survived`\n",
        "\n",
        "Variables to be used as predictors:\n",
        "* Pclass (number, no missing): use it as it is\n",
        "* Sex (String, no missing value): use it and recode as a number\n",
        "* Age (number, missing values): fill missing before using it\n",
        "* SibSp (number, no missing) use it as it is\n",
        "* Parch (number, no missing) use it as it is\n",
        "* Fare (number, no missing) use it maybe\n",
        "* Embarked (string, 2 missings): fill missing and encode them"
      ],
      "metadata": {
        "id": "oyB222vFeE-H"
      }
    },
    {
      "cell_type": "code",
      "source": [
        "#select passengers where age is null\n",
        "#1st method\n",
        "titanic_ddf.filter(\"age is null\").show()"
      ],
      "metadata": {
        "colab": {
          "base_uri": "https://localhost:8080/"
        },
        "id": "Wya6QK_cfLoD",
        "outputId": "40a7e8eb-ff9e-4bad-ab80-cd41cf3100d9"
      },
      "execution_count": null,
      "outputs": [
        {
          "output_type": "stream",
          "name": "stdout",
          "text": [
            "+-----------+--------+------+--------------------+------+----+-----+-----+---------------+--------+-----+--------+\n",
            "|PassengerId|Survived|Pclass|                Name|   Sex| Age|SibSp|Parch|         Ticket|    Fare|Cabin|Embarked|\n",
            "+-----------+--------+------+--------------------+------+----+-----+-----+---------------+--------+-----+--------+\n",
            "|          6|       0|     3|    Moran, Mr. James|  male|NULL|    0|    0|         330877|  8.4583| NULL|       Q|\n",
            "|         18|       1|     2|Williams, Mr. Cha...|  male|NULL|    0|    0|         244373|    13.0| NULL|       S|\n",
            "|         20|       1|     3|Masselmani, Mrs. ...|female|NULL|    0|    0|           2649|   7.225| NULL|       C|\n",
            "|         27|       0|     3|Emir, Mr. Farred ...|  male|NULL|    0|    0|           2631|   7.225| NULL|       C|\n",
            "|         29|       1|     3|\"O'Dwyer, Miss. E...|female|NULL|    0|    0|         330959|  7.8792| NULL|       Q|\n",
            "|         30|       0|     3| Todoroff, Mr. Lalio|  male|NULL|    0|    0|         349216|  7.8958| NULL|       S|\n",
            "|         32|       1|     1|Spencer, Mrs. Wil...|female|NULL|    1|    0|       PC 17569|146.5208|  B78|       C|\n",
            "|         33|       1|     3|Glynn, Miss. Mary...|female|NULL|    0|    0|         335677|    7.75| NULL|       Q|\n",
            "|         37|       1|     3|    Mamee, Mr. Hanna|  male|NULL|    0|    0|           2677|  7.2292| NULL|       C|\n",
            "|         43|       0|     3| Kraeff, Mr. Theodor|  male|NULL|    0|    0|         349253|  7.8958| NULL|       C|\n",
            "|         46|       0|     3|Rogers, Mr. Willi...|  male|NULL|    0|    0|S.C./A.4. 23567|    8.05| NULL|       S|\n",
            "|         47|       0|     3|   Lennon, Mr. Denis|  male|NULL|    1|    0|         370371|    15.5| NULL|       Q|\n",
            "|         48|       1|     3|O'Driscoll, Miss....|female|NULL|    0|    0|          14311|    7.75| NULL|       Q|\n",
            "|         49|       0|     3| Samaan, Mr. Youssef|  male|NULL|    2|    0|           2662| 21.6792| NULL|       C|\n",
            "|         56|       1|     1|   Woolner, Mr. Hugh|  male|NULL|    0|    0|          19947|    35.5|  C52|       S|\n",
            "|         65|       0|     1|Stewart, Mr. Albe...|  male|NULL|    0|    0|       PC 17605| 27.7208| NULL|       C|\n",
            "|         66|       1|     3|Moubarek, Master....|  male|NULL|    1|    1|           2661| 15.2458| NULL|       C|\n",
            "|         77|       0|     3|   Staneff, Mr. Ivan|  male|NULL|    0|    0|         349208|  7.8958| NULL|       S|\n",
            "|         78|       0|     3|Moutal, Mr. Raham...|  male|NULL|    0|    0|         374746|    8.05| NULL|       S|\n",
            "|         83|       1|     3|McDermott, Miss. ...|female|NULL|    0|    0|         330932|  7.7875| NULL|       Q|\n",
            "+-----------+--------+------+--------------------+------+----+-----+-----+---------------+--------+-----+--------+\n",
            "only showing top 20 rows\n",
            "\n"
          ]
        }
      ]
    },
    {
      "cell_type": "code",
      "source": [
        "#2nd method\n",
        "titanic_ddf.where('age is null').show()"
      ],
      "metadata": {
        "colab": {
          "base_uri": "https://localhost:8080/"
        },
        "id": "tamugeCnfuNE",
        "outputId": "a2b3df6c-0915-4fb6-bb7e-38fa86d02904"
      },
      "execution_count": null,
      "outputs": [
        {
          "output_type": "stream",
          "name": "stdout",
          "text": [
            "+-----------+--------+------+--------------------+------+----+-----+-----+---------------+--------+-----+--------+\n",
            "|PassengerId|Survived|Pclass|                Name|   Sex| Age|SibSp|Parch|         Ticket|    Fare|Cabin|Embarked|\n",
            "+-----------+--------+------+--------------------+------+----+-----+-----+---------------+--------+-----+--------+\n",
            "|          6|       0|     3|    Moran, Mr. James|  male|NULL|    0|    0|         330877|  8.4583| NULL|       Q|\n",
            "|         18|       1|     2|Williams, Mr. Cha...|  male|NULL|    0|    0|         244373|    13.0| NULL|       S|\n",
            "|         20|       1|     3|Masselmani, Mrs. ...|female|NULL|    0|    0|           2649|   7.225| NULL|       C|\n",
            "|         27|       0|     3|Emir, Mr. Farred ...|  male|NULL|    0|    0|           2631|   7.225| NULL|       C|\n",
            "|         29|       1|     3|\"O'Dwyer, Miss. E...|female|NULL|    0|    0|         330959|  7.8792| NULL|       Q|\n",
            "|         30|       0|     3| Todoroff, Mr. Lalio|  male|NULL|    0|    0|         349216|  7.8958| NULL|       S|\n",
            "|         32|       1|     1|Spencer, Mrs. Wil...|female|NULL|    1|    0|       PC 17569|146.5208|  B78|       C|\n",
            "|         33|       1|     3|Glynn, Miss. Mary...|female|NULL|    0|    0|         335677|    7.75| NULL|       Q|\n",
            "|         37|       1|     3|    Mamee, Mr. Hanna|  male|NULL|    0|    0|           2677|  7.2292| NULL|       C|\n",
            "|         43|       0|     3| Kraeff, Mr. Theodor|  male|NULL|    0|    0|         349253|  7.8958| NULL|       C|\n",
            "|         46|       0|     3|Rogers, Mr. Willi...|  male|NULL|    0|    0|S.C./A.4. 23567|    8.05| NULL|       S|\n",
            "|         47|       0|     3|   Lennon, Mr. Denis|  male|NULL|    1|    0|         370371|    15.5| NULL|       Q|\n",
            "|         48|       1|     3|O'Driscoll, Miss....|female|NULL|    0|    0|          14311|    7.75| NULL|       Q|\n",
            "|         49|       0|     3| Samaan, Mr. Youssef|  male|NULL|    2|    0|           2662| 21.6792| NULL|       C|\n",
            "|         56|       1|     1|   Woolner, Mr. Hugh|  male|NULL|    0|    0|          19947|    35.5|  C52|       S|\n",
            "|         65|       0|     1|Stewart, Mr. Albe...|  male|NULL|    0|    0|       PC 17605| 27.7208| NULL|       C|\n",
            "|         66|       1|     3|Moubarek, Master....|  male|NULL|    1|    1|           2661| 15.2458| NULL|       C|\n",
            "|         77|       0|     3|   Staneff, Mr. Ivan|  male|NULL|    0|    0|         349208|  7.8958| NULL|       S|\n",
            "|         78|       0|     3|Moutal, Mr. Raham...|  male|NULL|    0|    0|         374746|    8.05| NULL|       S|\n",
            "|         83|       1|     3|McDermott, Miss. ...|female|NULL|    0|    0|         330932|  7.7875| NULL|       Q|\n",
            "+-----------+--------+------+--------------------+------+----+-----+-----+---------------+--------+-----+--------+\n",
            "only showing top 20 rows\n",
            "\n"
          ]
        }
      ]
    },
    {
      "cell_type": "code",
      "source": [
        "titanic_ddf.describe().show()"
      ],
      "metadata": {
        "colab": {
          "base_uri": "https://localhost:8080/"
        },
        "id": "L5QOWsq1atZl",
        "outputId": "7ab1babf-411f-49b5-d142-6d012f74a5e7"
      },
      "execution_count": null,
      "outputs": [
        {
          "output_type": "stream",
          "name": "stdout",
          "text": [
            "+-------+-----------------+-------------------+------------------+--------------------+------+------------------+------------------+-------------------+------------------+-----------------+-----+--------+\n",
            "|summary|      PassengerId|           Survived|            Pclass|                Name|   Sex|               Age|             SibSp|              Parch|            Ticket|             Fare|Cabin|Embarked|\n",
            "+-------+-----------------+-------------------+------------------+--------------------+------+------------------+------------------+-------------------+------------------+-----------------+-----+--------+\n",
            "|  count|              891|                891|               891|                 891|   891|               714|               891|                891|               891|              891|  204|     889|\n",
            "|   mean|            446.0| 0.3838383838383838| 2.308641975308642|                NULL|  NULL| 29.69911764705882|0.5230078563411896|0.38159371492704824|260318.54916792738| 32.2042079685746| NULL|    NULL|\n",
            "| stddev|257.3538420152301|0.48659245426485753|0.8360712409770491|                NULL|  NULL|14.526497332334035|1.1027434322934315| 0.8060572211299488|471609.26868834975|49.69342859718089| NULL|    NULL|\n",
            "|    min|                1|                  0|                 1|\"Andersson, Mr. A...|female|              0.42|                 0|                  0|            110152|              0.0|  A10|       C|\n",
            "|    max|              891|                  1|                 3|van Melkebeke, Mr...|  male|              80.0|                 8|                  6|         WE/P 5735|         512.3292|    T|       S|\n",
            "+-------+-----------------+-------------------+------------------+--------------------+------+------------------+------------------+-------------------+------------------+-----------------+-----+--------+\n",
            "\n"
          ]
        }
      ]
    },
    {
      "cell_type": "code",
      "source": [],
      "metadata": {
        "id": "tAaXFJD5eD_F"
      },
      "execution_count": null,
      "outputs": []
    },
    {
      "cell_type": "markdown",
      "source": [
        "# Fill missing values in age column"
      ],
      "metadata": {
        "id": "BEyE97l6oqRH"
      }
    },
    {
      "cell_type": "code",
      "source": [],
      "metadata": {
        "id": "oYxsVMjAolHV"
      },
      "execution_count": null,
      "outputs": []
    },
    {
      "cell_type": "code",
      "source": [
        "titanic_age_median = titanic_ddf.agg({\"Age\":\"median\"}).toPandas().iloc[0][0]\n",
        "\n",
        "titanic_ddf.fillna({'Age':titanic_age_median}).show(8)\n"
      ],
      "metadata": {
        "colab": {
          "base_uri": "https://localhost:8080/"
        },
        "id": "frpBLYfsoDI6",
        "outputId": "62afa8d3-38c6-487d-dbfc-62f43b026644"
      },
      "execution_count": null,
      "outputs": [
        {
          "output_type": "stream",
          "name": "stdout",
          "text": [
            "+-----------+--------+------+--------------------+------+----+-----+-----+----------------+-------+-----+--------+\n",
            "|PassengerId|Survived|Pclass|                Name|   Sex| Age|SibSp|Parch|          Ticket|   Fare|Cabin|Embarked|\n",
            "+-----------+--------+------+--------------------+------+----+-----+-----+----------------+-------+-----+--------+\n",
            "|          1|       0|     3|Braund, Mr. Owen ...|  male|22.0|    1|    0|       A/5 21171|   7.25| NULL|       S|\n",
            "|          2|       1|     1|Cumings, Mrs. Joh...|female|38.0|    1|    0|        PC 17599|71.2833|  C85|       C|\n",
            "|          3|       1|     3|Heikkinen, Miss. ...|female|26.0|    0|    0|STON/O2. 3101282|  7.925| NULL|       S|\n",
            "|          4|       1|     1|Futrelle, Mrs. Ja...|female|35.0|    1|    0|          113803|   53.1| C123|       S|\n",
            "|          5|       0|     3|Allen, Mr. Willia...|  male|35.0|    0|    0|          373450|   8.05| NULL|       S|\n",
            "|          6|       0|     3|    Moran, Mr. James|  male|28.0|    0|    0|          330877| 8.4583| NULL|       Q|\n",
            "|          7|       0|     1|McCarthy, Mr. Tim...|  male|54.0|    0|    0|           17463|51.8625|  E46|       S|\n",
            "|          8|       0|     3|Palsson, Master. ...|  male| 2.0|    3|    1|          349909| 21.075| NULL|       S|\n",
            "+-----------+--------+------+--------------------+------+----+-----+-----+----------------+-------+-----+--------+\n",
            "only showing top 8 rows\n",
            "\n"
          ]
        }
      ]
    },
    {
      "cell_type": "code",
      "source": [
        "titanic_ddf.where(\"Embarked is null\").show()"
      ],
      "metadata": {
        "colab": {
          "base_uri": "https://localhost:8080/"
        },
        "id": "XpapzPvprng3",
        "outputId": "4be19f47-bd75-4605-9e75-4415744cd2ec"
      },
      "execution_count": null,
      "outputs": [
        {
          "output_type": "stream",
          "name": "stdout",
          "text": [
            "+-----------+--------+------+--------------------+------+----+-----+-----+------+----+-----+--------+\n",
            "|PassengerId|Survived|Pclass|                Name|   Sex| Age|SibSp|Parch|Ticket|Fare|Cabin|Embarked|\n",
            "+-----------+--------+------+--------------------+------+----+-----+-----+------+----+-----+--------+\n",
            "|         62|       1|     1| Icard, Miss. Amelie|female|38.0|    0|    0|113572|80.0|  B28|    NULL|\n",
            "|        830|       1|     1|Stone, Mrs. Georg...|female|62.0|    0|    0|113572|80.0|  B28|    NULL|\n",
            "+-----------+--------+------+--------------------+------+----+-----+-----+------+----+-----+--------+\n",
            "\n"
          ]
        }
      ]
    },
    {
      "cell_type": "code",
      "source": [
        "from pyspark.ml.feature import StringIndexer,OneHotEncoder, Imputer\n",
        "from pyspark.ml.feature import VectorAssembler\n",
        "from pyspark.ml.pipeline import Pipeline\n",
        "\n",
        "#convert sex to numbers, 0 for the most present sex (male) and 1 for less\n",
        "op_sex = StringIndexer(inputCol=\"Sex\",outputCol=\"nsex\")\n",
        "\n",
        "#encode embarked values (S,C,Q) with 0,1,2 and 0for the most present class, in this case S\n",
        "op_embarked = StringIndexer(inputCol=\"Embarked\",outputCol=\"nembarked\",handleInvalid=\"skip\") #do not block on NA when encoutered\n",
        "\n",
        "#fill na values of the age column by the median\n",
        "op_fill_age = Imputer(inputCol=\"Age\",outputCol=\"fage\",strategy=\"median\")\n",
        "\n",
        "#fill na values of the embarked column with the highest modality value\n",
        "op_fill_embarked = Imputer(inputCol=\"nembarked\",outputCol=\"fembarked\",strategy=\"mode\")\n",
        "\n",
        "#encode the embarked values in a one hot way\n",
        "op_ohe_embaked = OneHotEncoder(inputCol=\"fembarked\",outputCol=\"oheembarked\",dropLast=True) #to have n-1 associated columns\n",
        "\n",
        "#A feature transformer that merges multiple columns into a vector column.\n",
        "#in spark, when dealing with multiple columns database we need to convert them into a vector column\n",
        "#spark only works with vectorColumns\n",
        "\n",
        "op_features = VectorAssembler(inputCols=['Pclass',\"nsex\",\"fage\",\"SibSp\",\"Parch\",\"Fare\",\"oheembarked\"],outputCol=\"features\")\n",
        "\n",
        "#now put all the above preprocessing into a pipeline\n",
        "pipeline_features = Pipeline(stages=[op_sex,op_embarked,op_fill_age,op_fill_embarked,op_ohe_embaked,op_features])"
      ],
      "metadata": {
        "id": "TiLEzHkopEru"
      },
      "execution_count": null,
      "outputs": []
    },
    {
      "cell_type": "code",
      "source": [],
      "metadata": {
        "id": "VQmYWN-9ub28"
      },
      "execution_count": null,
      "outputs": []
    },
    {
      "cell_type": "code",
      "source": [],
      "metadata": {
        "id": "sFN9WCMmw7Jo"
      },
      "execution_count": null,
      "outputs": []
    },
    {
      "cell_type": "markdown",
      "source": [
        "#TRAINING ALGORITHMS"
      ],
      "metadata": {
        "id": "5vjoaATzw7ib"
      }
    },
    {
      "cell_type": "code",
      "source": [
        "from pyspark.ml.classification import LogisticRegression, RandomForestClassifier, GBTClassifier\n",
        "\n",
        "lr = LogisticRegression(labelCol=\"Survived\")\n",
        "\n",
        "rf = RandomForestClassifier(labelCol=\"Survived\")\n",
        "\n",
        "gbt = GBTClassifier(labelCol='Survived')\n",
        "\n",
        "pipeline_lr = Pipeline(stages=[pipeline_features,lr])\n",
        "pipeline_rf = Pipeline(stages=[pipeline_features,rf])\n",
        "pipeline_gbt = Pipeline(stages=[pipeline_features,gbt])"
      ],
      "metadata": {
        "id": "9T_2VL_ZxKuP"
      },
      "execution_count": null,
      "outputs": []
    },
    {
      "cell_type": "code",
      "source": [
        "fitted_lr = pipeline_lr.fit(titanic_ddf)"
      ],
      "metadata": {
        "id": "F8ekRGv9yVGY"
      },
      "execution_count": null,
      "outputs": []
    },
    {
      "cell_type": "code",
      "source": [
        "#how to access the model\n",
        "#it's the last stage of our pipeline( logique.pdf haha)\n",
        "fitted_lr.stages[-1]\n"
      ],
      "metadata": {
        "colab": {
          "base_uri": "https://localhost:8080/"
        },
        "id": "yU66PaV7y2Vf",
        "outputId": "7e0340f4-7031-40c5-9735-8d8791facf4d"
      },
      "execution_count": null,
      "outputs": [
        {
          "output_type": "execute_result",
          "data": {
            "text/plain": [
              "LogisticRegressionModel: uid=LogisticRegression_43f05a9499a9, numClasses=2, numFeatures=8"
            ]
          },
          "metadata": {},
          "execution_count": 37
        }
      ]
    },
    {
      "cell_type": "code",
      "source": [
        "fitted_lr.transform(titanic_ddf).show(5,truncate=False)"
      ],
      "metadata": {
        "colab": {
          "base_uri": "https://localhost:8080/"
        },
        "id": "E9E5QoQ20Sh6",
        "outputId": "60c79f2d-56c0-4586-d04d-4360d0102bea"
      },
      "execution_count": null,
      "outputs": [
        {
          "output_type": "stream",
          "name": "stdout",
          "text": [
            "+-----------+--------+------+---------------------------------------------------+------+----+-----+-----+----------------+-------+-----+--------+----+---------+----+---------+-------------+--------------------------------------+----------------------------------------+----------------------------------------+----------+\n",
            "|PassengerId|Survived|Pclass|Name                                               |Sex   |Age |SibSp|Parch|Ticket          |Fare   |Cabin|Embarked|nsex|nembarked|fage|fembarked|oheembarked  |features                              |rawPrediction                           |probability                             |prediction|\n",
            "+-----------+--------+------+---------------------------------------------------+------+----+-----+-----+----------------+-------+-----+--------+----+---------+----+---------+-------------+--------------------------------------+----------------------------------------+----------------------------------------+----------+\n",
            "|1          |0       |3     |Braund, Mr. Owen Harris                            |male  |22.0|1    |0    |A/5 21171       |7.25   |NULL |S       |0.0 |0.0      |22.0|0.0      |(2,[0],[1.0])|[3.0,0.0,22.0,1.0,0.0,7.25,1.0,0.0]   |[2.355887661981817,-2.355887661981817]  |[0.9134010739247714,0.08659892607522857]|0.0       |\n",
            "|2          |1       |1     |Cumings, Mrs. John Bradley (Florence Briggs Thayer)|female|38.0|1    |0    |PC 17599        |71.2833|C85  |C       |1.0 |1.0      |38.0|1.0      |(2,[1],[1.0])|[1.0,1.0,38.0,1.0,0.0,71.2833,0.0,1.0]|[-2.4677710569789038,2.4677710569789038]|[0.07814866049908978,0.9218513395009102]|1.0       |\n",
            "|3          |1       |3     |Heikkinen, Miss. Laina                             |female|26.0|0    |0    |STON/O2. 3101282|7.925  |NULL |S       |1.0 |0.0      |26.0|0.0      |(2,[0],[1.0])|[3.0,1.0,26.0,0.0,0.0,7.925,1.0,0.0]  |[-0.5322621030097701,0.5322621030097701]|[0.3699894431350766,0.6300105568649235] |1.0       |\n",
            "|4          |1       |1     |Futrelle, Mrs. Jacques Heath (Lily May Peel)       |female|35.0|1    |0    |113803          |53.1   |C123 |S       |1.0 |0.0      |35.0|0.0      |(2,[0],[1.0])|[1.0,1.0,35.0,1.0,0.0,53.1,1.0,0.0]   |[-2.139011024479519,2.139011024479519]  |[0.10536257526694871,0.8946374247330513]|1.0       |\n",
            "|5          |0       |3     |Allen, Mr. William Henry                           |male  |35.0|0    |0    |373450          |8.05   |NULL |S       |0.0 |0.0      |35.0|0.0      |(2,[0],[1.0])|(8,[0,2,5,6],[3.0,35.0,8.05,1.0])     |[2.5413853905604684,-2.5413853905604684]|[0.9269926415295214,0.07300735847047857]|0.0       |\n",
            "+-----------+--------+------+---------------------------------------------------+------+----+-----+-----+----------------+-------+-----+--------+----+---------+----+---------+-------------+--------------------------------------+----------------------------------------+----------------------------------------+----------+\n",
            "only showing top 5 rows\n",
            "\n"
          ]
        }
      ]
    },
    {
      "cell_type": "code",
      "source": [
        "fitted_rf = pipeline_rf.fit(titanic_ddf)\n",
        "fitted_rf.transform(titanic_ddf).show(5,truncate=False)"
      ],
      "metadata": {
        "colab": {
          "base_uri": "https://localhost:8080/"
        },
        "id": "HbSpONrJ3740",
        "outputId": "1f54d4be-71bd-4744-bace-38a3d70b42fa"
      },
      "execution_count": null,
      "outputs": [
        {
          "output_type": "stream",
          "name": "stdout",
          "text": [
            "+-----------+--------+------+---------------------------------------------------+------+----+-----+-----+----------------+-------+-----+--------+----+---------+----+---------+-------------+--------------------------------------+--------------------------------------+----------------------------------------+----------+\n",
            "|PassengerId|Survived|Pclass|Name                                               |Sex   |Age |SibSp|Parch|Ticket          |Fare   |Cabin|Embarked|nsex|nembarked|fage|fembarked|oheembarked  |features                              |rawPrediction                         |probability                             |prediction|\n",
            "+-----------+--------+------+---------------------------------------------------+------+----+-----+-----+----------------+-------+-----+--------+----+---------+----+---------+-------------+--------------------------------------+--------------------------------------+----------------------------------------+----------+\n",
            "|1          |0       |3     |Braund, Mr. Owen Harris                            |male  |22.0|1    |0    |A/5 21171       |7.25   |NULL |S       |0.0 |0.0      |22.0|0.0      |(2,[0],[1.0])|[3.0,0.0,22.0,1.0,0.0,7.25,1.0,0.0]   |[17.69116551295842,2.3088344870415805]|[0.884558275647921,0.11544172435207903] |0.0       |\n",
            "|2          |1       |1     |Cumings, Mrs. John Bradley (Florence Briggs Thayer)|female|38.0|1    |0    |PC 17599        |71.2833|C85  |C       |1.0 |1.0      |38.0|1.0      |(2,[1],[1.0])|[1.0,1.0,38.0,1.0,0.0,71.2833,0.0,1.0]|[0.8063681231795476,19.19363187682045]|[0.04031840615897738,0.9596815938410226]|1.0       |\n",
            "|3          |1       |3     |Heikkinen, Miss. Laina                             |female|26.0|0    |0    |STON/O2. 3101282|7.925  |NULL |S       |1.0 |0.0      |26.0|0.0      |(2,[0],[1.0])|[3.0,1.0,26.0,0.0,0.0,7.925,1.0,0.0]  |[11.952338792209869,8.047661207790128]|[0.5976169396104936,0.40238306038950644]|0.0       |\n",
            "|4          |1       |1     |Futrelle, Mrs. Jacques Heath (Lily May Peel)       |female|35.0|1    |0    |113803          |53.1   |C123 |S       |1.0 |0.0      |35.0|0.0      |(2,[0],[1.0])|[1.0,1.0,35.0,1.0,0.0,53.1,1.0,0.0]   |[1.0417561879070294,18.95824381209297]|[0.05208780939535147,0.9479121906046485]|1.0       |\n",
            "|5          |0       |3     |Allen, Mr. William Henry                           |male  |35.0|0    |0    |373450          |8.05   |NULL |S       |0.0 |0.0      |35.0|0.0      |(2,[0],[1.0])|(8,[0,2,5,6],[3.0,35.0,8.05,1.0])     |[17.29713822977522,2.7028617702247804]|[0.8648569114887611,0.13514308851123902]|0.0       |\n",
            "+-----------+--------+------+---------------------------------------------------+------+----+-----+-----+----------------+-------+-----+--------+----+---------+----+---------+-------------+--------------------------------------+--------------------------------------+----------------------------------------+----------+\n",
            "only showing top 5 rows\n",
            "\n"
          ]
        }
      ]
    },
    {
      "cell_type": "markdown",
      "source": [
        "Splitting the dataset into train & Test"
      ],
      "metadata": {
        "id": "9wHyJeBU77mG"
      }
    },
    {
      "cell_type": "code",
      "source": [
        "train_ddf, test_ddf = titanic_ddf.randomSplit([2.,1.]) #equivalent to [0.66,0.33]\n"
      ],
      "metadata": {
        "id": "osLIx2578BGg"
      },
      "execution_count": null,
      "outputs": []
    },
    {
      "cell_type": "markdown",
      "source": [
        "Evaluate the algorithms"
      ],
      "metadata": {
        "id": "yHVYGwzC8gyN"
      }
    },
    {
      "cell_type": "code",
      "source": [
        "from pyspark.ml.evaluation import BinaryClassificationEvaluator\n",
        "#create the evaluator object\n",
        "\n",
        "evaluator = BinaryClassificationEvaluator(labelCol=\"Survived\")\n",
        "#train the model again\n",
        "fitted_lr = pipeline_lr.fit(train_ddf)\n",
        "\n",
        "#compute the AUC score\n",
        "evaluator.evaluate(fitted_lr.transform(test_ddf))\n"
      ],
      "metadata": {
        "colab": {
          "base_uri": "https://localhost:8080/"
        },
        "id": "WhWTDqq7761j",
        "outputId": "d94d1c32-4d55-47b0-d2b6-ebc506934a3c"
      },
      "execution_count": null,
      "outputs": [
        {
          "output_type": "execute_result",
          "data": {
            "text/plain": [
              "0.8539068666140489"
            ]
          },
          "metadata": {},
          "execution_count": 41
        }
      ]
    },
    {
      "cell_type": "code",
      "source": [
        "#train the model again\n",
        "fitted_gbt = pipeline_gbt.fit(train_ddf)\n",
        "print(f\"AUC ROC GBT:{evaluator.evaluate(fitted_gbt.transform(test_ddf))}\")\n",
        "\n",
        "fitted_rf = pipeline_rf.fit(train_ddf)\n",
        "print(f\"AUC ROC RF:{evaluator.evaluate(fitted_rf.transform(test_ddf))}\")\n"
      ],
      "metadata": {
        "colab": {
          "base_uri": "https://localhost:8080/"
        },
        "id": "UHIC6Amo_DTX",
        "outputId": "3839d287-8a47-48b9-c03e-ff0f4aa8e08d"
      },
      "execution_count": null,
      "outputs": [
        {
          "output_type": "stream",
          "name": "stdout",
          "text": [
            "AUC ROC GBT:0.8705077611154953\n",
            "AUC ROC RF:0.8645882662457248\n"
          ]
        }
      ]
    },
    {
      "cell_type": "code",
      "source": [
        "from pyspark.ml.tuning import CrossValidator\n",
        "from pyspark.ml.tuning import ParamGridBuilder\n",
        "\n",
        "#build the grid\n",
        "grid_lr = ParamGridBuilder().addGrid(lr.maxIter,[10,50,100]).build()\n",
        "\n",
        "cv_lr = CrossValidator(estimator=pipeline_lr,estimatorParamMaps=grid_lr,evaluator=evaluator,numFolds=10)\n",
        "\n",
        "optimized_lr = cv_lr.fit(titanic_ddf)\n"
      ],
      "metadata": {
        "id": "oQydNcabAFze"
      },
      "execution_count": null,
      "outputs": []
    },
    {
      "cell_type": "code",
      "source": [
        "optimized_lr.avgMetrics"
      ],
      "metadata": {
        "colab": {
          "base_uri": "https://localhost:8080/"
        },
        "id": "zNtzjKI2aoD9",
        "outputId": "416f9765-9dbb-4efc-9599-20dc732a3ede"
      },
      "execution_count": null,
      "outputs": [
        {
          "output_type": "execute_result",
          "data": {
            "text/plain": [
              "[0.8511681723300318, 0.8510823175397293, 0.8510823175397293]"
            ]
          },
          "metadata": {},
          "execution_count": 44
        }
      ]
    },
    {
      "cell_type": "code",
      "source": [
        "optimized_lr.bestModel.stages[-1]"
      ],
      "metadata": {
        "colab": {
          "base_uri": "https://localhost:8080/"
        },
        "id": "oSdLK-BBcssX",
        "outputId": "78cc7e4f-1a4b-45c9-f79f-a7175a76b730"
      },
      "execution_count": null,
      "outputs": [
        {
          "output_type": "execute_result",
          "data": {
            "text/plain": [
              "LogisticRegressionModel: uid=LogisticRegression_43f05a9499a9, numClasses=2, numFeatures=8"
            ]
          },
          "metadata": {},
          "execution_count": 45
        }
      ]
    },
    {
      "cell_type": "code",
      "source": [
        "grid_rf = ParamGridBuilder().addGrid(rf.numTrees,[50,100,200]).addGrid(rf.maxDepth,[3,5,8]).build()\n",
        "\n",
        "cv_rf = CrossValidator(estimator=pipeline_rf,estimatorParamMaps=grid_rf,evaluator=evaluator,numFolds=10)\n",
        "\n",
        "#start training all the models for each parameters combinations defined in the grid\n",
        "optimized_rf = cv_rf.fit(titanic_ddf)"
      ],
      "metadata": {
        "id": "wpHuDVtgc2xt"
      },
      "execution_count": null,
      "outputs": []
    },
    {
      "cell_type": "markdown",
      "source": [
        "Do the same for GBT"
      ],
      "metadata": {
        "id": "fgEttD_GeyB9"
      }
    },
    {
      "cell_type": "code",
      "source": [
        "grid_gbt = ParamGridBuilder().addGrid(gbt.maxDepth,[3,5,8]).build()\n",
        "\n",
        "cv_gbt = CrossValidator(estimator=pipeline_gbt,estimatorParamMaps=grid_gbt,evaluator=evaluator,numFolds=5)\n",
        "\n",
        "#start training all the models for each parameters combinations defined in the grid\n",
        "optimized_gbt = cv_gbt.fit(titanic_ddf)"
      ],
      "metadata": {
        "id": "986e9nvSdtVL"
      },
      "execution_count": null,
      "outputs": []
    },
    {
      "cell_type": "code",
      "source": [
        " #finding the best model\n"
      ],
      "metadata": {
        "id": "1bhT9UOqhaNR"
      },
      "execution_count": null,
      "outputs": []
    },
    {
      "cell_type": "code",
      "source": [
        "best_accuracy = 0\n",
        "best_pipeline = None\n",
        "for pipeline in [optimized_lr,optimized_gbt,optimized_rf]:\n",
        "  if max_avg := max(pipeline.avgMetrics) > best_accuracy: #values operators (:= )\n",
        "    best_pipeline = pipeline\n",
        "    best_accuracy = max_avg\n",
        "print(f\"The best model overall is {best_pipeline} with the parameters : {best_pipeline.extractParamMap} and the accuracy :{best_accuracy}\")"
      ],
      "metadata": {
        "colab": {
          "base_uri": "https://localhost:8080/"
        },
        "id": "Qw0KRzsPiaZy",
        "outputId": "46894fa8-79a3-4621-bf34-e66af6af9c1b"
      },
      "execution_count": null,
      "outputs": [
        {
          "output_type": "stream",
          "name": "stdout",
          "text": [
            "The best model overall is CrossValidatorModel_84ddd6374c33 with the parameters : <bound method Params.extractParamMap of CrossValidatorModel_84ddd6374c33> and the accuracy :True\n"
          ]
        }
      ]
    },
    {
      "cell_type": "markdown",
      "source": [
        "Making the model persistent"
      ],
      "metadata": {
        "id": "iXAqZeH6mWF8"
      }
    },
    {
      "cell_type": "code",
      "source": [
        "best_pipeline.save('best_titanic_survived_sparkml')"
      ],
      "metadata": {
        "id": "lCP4a3HjmYox"
      },
      "execution_count": null,
      "outputs": []
    },
    {
      "cell_type": "code",
      "source": [
        "#loading the saved model\n",
        "from pyspark.ml.tuning import CrossValidatorModel\n",
        "reload_best_pipeline = CrossValidatorModel.load('best_titanic_survived_sparkml')"
      ],
      "metadata": {
        "id": "J9tT0B3GmVHY"
      },
      "execution_count": null,
      "outputs": []
    },
    {
      "cell_type": "code",
      "source": [],
      "metadata": {
        "id": "S7jfNQiOjO4X"
      },
      "execution_count": null,
      "outputs": []
    }
  ]
}